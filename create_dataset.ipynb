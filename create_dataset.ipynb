{
 "cells": [
  {
   "cell_type": "code",
   "execution_count": 37,
   "id": "d8ee4fb0",
   "metadata": {},
   "outputs": [],
   "source": [
    "import string\n",
    "import pandas as pd"
   ]
  },
  {
   "cell_type": "code",
   "execution_count": 3,
   "id": "4278e241",
   "metadata": {},
   "outputs": [],
   "source": [
    "def form_letter(letter, char):\n",
    "    if letter == \"A\":\n",
    "        return char + \"   \" + char + \"\\n\" + char + \" \" + char + \" \" + char + \"\\n\" + char * 5 + \"\\n\" + char + \" \" + char + \" \" + char + \"\\n\" + char + \"   \" + char + \"\\n\"\n",
    "    elif letter == \"B\":\n",
    "        return char * 4 + \" \\n\" + char + \"   \" + char + \"\\n\" + char + \"   \" + char + \"\\n\" + char * 4 + \" \\n\" + char + \"   \" + char + \"\\n\" + char + \"   \" + char + \"\\n\" + char * 4 + \" \\n\"\n",
    "    elif letter == \"C\":\n",
    "        return \" \" + char * 3 + \" \\n\" + char + \"    \\n\" + char + \"    \\n\" + char + \"    \\n\" + char + \"    \\n\" + \" \" + char * 3 + \" \\n\"\n",
    "    elif letter == \"D\":\n",
    "        return char * 4 + \" \\n\" + char + \"   \" + char + \"\\n\" + char + \"   \" + char + \"\\n\" + char + \"   \" + char + \"\\n\" + char + \"   \" + char + \"\\n\" + char * 4 + \" \\n\"\n",
    "    elif letter == \"E\":\n",
    "        return char * 5 + \"\\n\" + char + \"    \\n\" + char + \"    \\n\" + char * 4 + \" \\n\" + char + \"    \\n\" + char * 5 + \"\\n\"\n",
    "    elif letter == \"F\":\n",
    "        return char * 5 + \"\\n\" + char + \"    \\n\" + char + \"    \\n\" + char * 4 + \" \\n\" + char + \"    \\n\" + char + \"    \\n\"\n",
    "    elif letter == \"G\":\n",
    "        return \" \" + char * 4 + \"\\n\" + char + \"    \\n\" + char + \"    \\n\" + char + \"  \" + char * 2 + \"\\n\" + char + \"   \" + char + \"\\n\" + \" \" + char * 4 + \"\\n\"\n",
    "    elif letter == \"H\":\n",
    "        return char + \"   \" + char + \"\\n\" + char + \"   \" + char + \"\\n\" + char + \"   \" + char + \"\\n\" + char * 5 + \"\\n\" + char + \"   \" + char + \"\\n\" + char + \"   \" + char + \"\\n\"\n",
    "    elif letter == \"I\":\n",
    "        return char * 5 + \"\\n\" + \"  \" + char + \"  \\n\" + \"  \" + char + \"  \\n\" + \"  \" + char + \"  \\n\" + \"  \" + char + \"  \\n\" + char * 5 + \"\\n\"\n",
    "    elif letter == \"J\":\n",
    "        return \"  \" + char + \"  \\n\" + \"  \" + char + \"  \\n\" + \"  \" + char + \"  \\n\" + \"  \" + char + \"  \\n\" + \"  \" + char + \"  \\n\" + char + \"   \\n\" + char * 2 + \"  \\n\"\n",
    "\n",
    "    elif letter == \"K\":\n",
    "        return char + \"   \" + char + \"\\n\" + char + \"  \" + char + \" \\n\" + char + \" \" + char + \"  \\n\" + char * 4 + \"\\n\" + char + \" \" + char + \"  \\n\" + char + \"  \" + char + \" \\n\" + char + \"   \" + char + \"\\n\"\n",
    "    elif letter == \"L\":\n",
    "        return char + \"    \\n\" + char + \"    \\n\" + char + \"    \\n\" + char + \"    \\n\" + char + \"    \\n\" + char * 5 + \"\\n\"\n",
    "    elif letter == \"M\":\n",
    "        return char + \"   \" + char + \"\\n\" + char + char + char + char + char + \"\\n\" + char + \" \" + char + \" \" + char + \"\\n\" + char + \"  \" + char + \"  \" + char + \"\\n\" + char + \"   \" + char + \"\\n\"\n",
    "    elif letter == \"N\":\n",
    "        return char + \"   \" + char + \"\\n\" + char + char + \"  \" + char + \"\\n\" + char + \" \" + char + \" \" + char + \"\\n\" + char + \"  \" + char + char + \"\\n\" + char + \"   \" + char + \"\\n\"\n",
    "    elif letter == \"O\":\n",
    "        return \" \" + char * 3 + \" \\n\" + char + \"   \" + char + \"\\n\" + char + \"   \" + char + \"\\n\" + char + \"   \" + char + \"\\n\" + char + \"   \" + char + \"\\n\" + \" \" + char * 3 + \" \\n\"\n",
    "    elif letter == \"P\":\n",
    "        return char * 4 + \" \\n\" + char + \"   \" + char + \"\\n\" + char + \"   \" + char + \"\\n\" + char * 4 + \" \\n\" + char + \"    \\n\" + char + \"    \\n\" + char + \"    \\n\"\n",
    "    elif letter == \"Q\":\n",
    "        return \" \" + char * 3 + \" \\n\" + char + \"   \" + char + \"\\n\" + char + \"   \" + char + \"\\n\" + char + \"   \" + char + \"\\n\" + char + \"  \" + char + \" \\n\" + \" \" + char * 3 + char + \"\\n\"\n",
    "    elif letter == \"R\":\n",
    "        return char * 4 + \" \\n\" + char + \"   \" + char + \"\\n\" + char + \"   \" + char + \"\\n\" + char * 4 + \" \\n\" + char + \" \" + char + \"  \\n\" + char + \"  \" + char + \" \\n\" + char + \"   \" + char + \"\\n\"\n",
    "    elif letter == \"S\":\n",
    "        return char * 3 + \"\\n\" + char + \"  \\n\" + char + \"  \\n\" + char * 3 + \"\\n\" + \"  \" + char + \"  \\n\" + \"  \" + char + \"  \\n\" + char * 3 + \"\\n\"\n",
    "    \n",
    "    elif letter == \"K\":\n",
    "        return char + \"   \" + char + \"\\n\" + char + \"  \" + char + \" \\n\" + char + \" \" + char + \"  \\n\" + char * 4 + \"\\n\" + char + \" \" + char + \"  \\n\" + char + \"  \" + char + \" \\n\" + char + \"   \" + char + \"\\n\"\n",
    "    elif letter == \"L\":\n",
    "        return char + \"    \\n\" + char + \"    \\n\" + char + \"    \\n\" + char + \"    \\n\" + char + \"    \\n\" + char * 5 + \"\\n\"\n",
    "    elif letter == \"M\":\n",
    "        return char + \"   \" + char + \"\\n\" + char + char + char + char + char + \"\\n\" + char + \" \" + char + \" \" + char + \"\\n\" + char + \"  \" + char + \"  \" + char + \"\\n\" + char + \"   \" + char + \"\\n\"\n",
    "    elif letter == \"N\":\n",
    "        return char + \"   \" + char + \"\\n\" + char + char + \"  \" + char + \"\\n\" + char + \" \" + char + \" \" + char + \"\\n\" + char + \"  \" + char + char + \"\\n\" + char + \"   \" + char + \"\\n\"\n",
    "    elif letter == \"O\":\n",
    "        return \" \" + char * 3 + \" \\n\" + char + \"   \" + char + \"\\n\" + char + \"   \" + char + \"\\n\" + char + \"   \" + char + \"\\n\" + char + \"   \" + char + \"\\n\" + \" \" + char * 3 + \" \\n\"\n",
    "    elif letter == \"P\":\n",
    "        return char * 4 + \" \\n\" + char + \"   \" + char + \"\\n\" + char + \"   \" + char + \"\\n\" + char * 4 + \" \\n\" + char + \"    \\n\" + char + \"    \\n\" + char + \"    \\n\"\n",
    "    elif letter == \"Q\":\n",
    "        return \" \" + char * 3 + \" \\n\" + char + \"   \" + char + \"\\n\" + char + \"   \" + char + \"\\n\" + char + \"   \" + char + \"\\n\" + char + \"  \" + char + \" \\n\" + \" \" + char * 3 + char + \"\\n\"\n",
    "    elif letter == \"R\":\n",
    "        return char * 4 + \" \\n\" + char + \"   \" + char + \"\\n\" + char + \"   \" + char + \"\\n\" + char * 4 + \" \\n\" + char + \" \" + char + \"  \\n\" + char + \"  \" + char + \" \\n\" + char + \"   \" + char + \"\\n\"\n",
    "    elif letter == \"S\":\n",
    "        return \" \" + char * 4 + \"\\n\" + char + \"    \\n\" + char + \"    \\n\" + \" \" + char * 4 + \"\\n\" + \"    \" + char + \"\\n\" + \"    \" + char + \"\\n\" + \" \" + char * 4 + \"\\n\"\n",
    "    \n",
    "    if letter == \"T\":\n",
    "        return char * 7 + \"\\n\" + \"  \" + char + \"  \\n\" + \"  \" + char + \"  \\n\" + \"  \" + char + \"  \\n\" + \"  \" + char + \"  \\n\" + \"  \" + char + \"  \\n\"\n",
    "    elif letter == \"U\":\n",
    "        return char + \"   \" + char + \"\\n\" + char + \"   \" + char + \"\\n\" + char + \"   \" + char + \"\\n\" + char + \"   \" + char + \"\\n\" + char + \"   \" + char + \"\\n\" + \" \" + char * 3 + \" \\n\"\n",
    "    elif letter == \"V\":\n",
    "        return char + \"   \" + char + \"\\n\" + char + \"   \" + char + \"\\n\" + char + \"   \" + char + \"\\n\" + char + \"   \" + char + \"\\n\" + \" \" + char + \" \" + char + \"\\n\" + \"  \" + char + \"  \\n\"\n",
    "    elif letter == \"W\":\n",
    "        return char + \"   \" + char + \"\\n\" + char + \"   \" + char + \"\\n\" + char + \"   \" + char + \"\\n\" + char + \" \" + char + \" \" + char + \"\\n\" + char + char + char + char + char + \"\\n\"\n",
    "    elif letter == \"X\":\n",
    "        return char + \"   \" + char + \"\\n\" + \" \" + char + \" \" + char + \"\\n\" + \"  \" + char + \"  \\n\" + \" \" + char + \" \" + char + \"\\n\" + char + \"   \" + char + \"\\n\"\n",
    "    elif letter == \"Y\":\n",
    "        return char + \"   \" + char + \"\\n\" + \" \" + char + \" \" + char + \"\\n\" + \"  \" + char + \"  \\n\" + \"  \" + char + \"  \\n\" + \"  \" + char + \"  \\n\" + \"  \" + char + \"  \\n\"\n",
    "    elif letter == \"Z\":\n",
    "        return char * 7 + \"\\n\" + \"     \" + char + \"\\n\" + \"    \" + char + \"\\n\" + \"   \" + char + \"\\n\" + \"  \" + char + \"\\n\" + \" \" + char + \"\\n\" + char * 7 + \"\\n\"\n"
   ]
  },
  {
   "cell_type": "code",
   "execution_count": 33,
   "id": "bfc7aa3b",
   "metadata": {},
   "outputs": [],
   "source": [
    "list_letters = [i for i in (string.ascii_uppercase)]\n",
    "list_letters.remove('A')\n",
    "list_letters.remove('M')\n",
    "letter_prints = []\n",
    "local_letter = []\n",
    "global_letter = []\n",
    "same_or_not = []"
   ]
  },
  {
   "cell_type": "code",
   "execution_count": 34,
   "id": "7c64fc9d",
   "metadata": {},
   "outputs": [],
   "source": [
    "for global_ in list_letters:\n",
    "    for local_ in list_letters:\n",
    "        letter_prints.append(form_letter(global_,local_))\n",
    "        local_letter.append(local_)\n",
    "        global_letter.append(global_)\n",
    "        \n",
    "        if(global_ == local_):\n",
    "            same_or_not.append(True)\n",
    "        \n",
    "        else:\n",
    "            same_or_not.append(False)"
   ]
  },
  {
   "cell_type": "code",
   "execution_count": 38,
   "id": "a8eb4188",
   "metadata": {},
   "outputs": [],
   "source": [
    "data = pd.DataFrame({\"local_letter\":local_letter, \"global_letter\":global_letter, \"letter_prints\":letter_prints, \"same_or_not\": same_or_not})"
   ]
  },
  {
   "cell_type": "code",
   "execution_count": 45,
   "id": "0794a654",
   "metadata": {},
   "outputs": [],
   "source": [
    "csv_filename = 'navon_dataset.csv'\n",
    "data.to_csv(csv_filename, index=False)"
   ]
  },
  {
   "cell_type": "code",
   "execution_count": 46,
   "id": "088c33b0",
   "metadata": {},
   "outputs": [
    {
     "data": {
      "text/plain": [
       "576"
      ]
     },
     "execution_count": 46,
     "metadata": {},
     "output_type": "execute_result"
    }
   ],
   "source": [
    "len(data)"
   ]
  },
  {
   "cell_type": "code",
   "execution_count": null,
   "id": "7725debf",
   "metadata": {},
   "outputs": [],
   "source": []
  }
 ],
 "metadata": {
  "kernelspec": {
   "display_name": "Python 3 (ipykernel)",
   "language": "python",
   "name": "python3"
  },
  "language_info": {
   "codemirror_mode": {
    "name": "ipython",
    "version": 3
   },
   "file_extension": ".py",
   "mimetype": "text/x-python",
   "name": "python",
   "nbconvert_exporter": "python",
   "pygments_lexer": "ipython3",
   "version": "3.9.16"
  }
 },
 "nbformat": 4,
 "nbformat_minor": 5
}
